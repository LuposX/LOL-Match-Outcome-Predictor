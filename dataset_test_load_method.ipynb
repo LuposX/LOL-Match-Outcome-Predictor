{
 "cells": [
  {
   "cell_type": "code",
   "execution_count": 1,
   "id": "2b670f55-d39a-4883-9f1a-128dc4c85e7b",
   "metadata": {},
   "outputs": [],
   "source": [
    "import simplejson\n",
    "import json\n",
    "import pandas as pd\n",
    "import torch\n",
    "from torch.utils.data import DataLoader, Dataset\n",
    "import linecache"
   ]
  },
  {
   "cell_type": "code",
   "execution_count": 2,
   "id": "12508674-ad89-4d9e-9464-da79e5bee1ed",
   "metadata": {},
   "outputs": [],
   "source": [
    "# Methods for counting lines\n",
    "def _make_gen(reader):\n",
    "    b = reader(1024 * 1024)\n",
    "    while b:\n",
    "        yield b\n",
    "        b = reader(1024*1024)\n",
    "\n",
    "def rawgencount(filename):\n",
    "    f = open(filename, 'rb')\n",
    "    f_gen = _make_gen(f.raw.read)\n",
    "    return sum(buf.count(b'\\n') for buf in f_gen)\n",
    "\n",
    "# Source: https://stackoverflow.com/questions/845058/how-to-get-line-count-of-a-large-file-cheaply-in-python"
   ]
  },
  {
   "cell_type": "code",
   "execution_count": 3,
   "id": "c5301aac-2372-4e53-9e38-9ff01812a4fd",
   "metadata": {},
   "outputs": [
    {
     "data": {
      "text/plain": [
       "10"
      ]
     },
     "execution_count": 3,
     "metadata": {},
     "output_type": "execute_result"
    }
   ],
   "source": [
    "rawgencount(\"league_ranked_2020_short.json\")"
   ]
  },
  {
   "cell_type": "code",
   "execution_count": 6,
   "id": "495b0aad-1465-4510-8df6-d552f37e8fb6",
   "metadata": {},
   "outputs": [],
   "source": [
    "test = linecache.getline(\"league_ranked_2020_short.json\", 1 + 1).rstrip('\\n')"
   ]
  },
  {
   "cell_type": "code",
   "execution_count": 9,
   "id": "49e71512-1841-4190-b9be-bfe220d4fa5b",
   "metadata": {},
   "outputs": [],
   "source": [
    "lol = simplejson.loads(test)"
   ]
  },
  {
   "cell_type": "code",
   "execution_count": 10,
   "id": "cee731a0-a9ff-4e34-bdac-e7da90d936bb",
   "metadata": {},
   "outputs": [
    {
     "data": {
      "text/plain": [
       "'3.17.5'"
      ]
     },
     "execution_count": 10,
     "metadata": {},
     "output_type": "execute_result"
    }
   ],
   "source": [
    "simplejson.__version__"
   ]
  },
  {
   "cell_type": "code",
   "execution_count": 14,
   "id": "69b529dd-913f-4abf-9f1d-6c40c949727b",
   "metadata": {},
   "outputs": [
    {
     "data": {
      "text/plain": [
       "41"
      ]
     },
     "execution_count": 14,
     "metadata": {},
     "output_type": "execute_result"
    }
   ],
   "source": [
    "lol[2][\"championId\"]"
   ]
  },
  {
   "cell_type": "code",
   "execution_count": 23,
   "id": "e98d69c3-7f38-4c5a-8224-ac338bff2bb9",
   "metadata": {},
   "outputs": [],
   "source": [
    "championidtable_location = open(\"E:/Datasets/league_of_legends_ranked_games_2020/champion_and_items/riot_champion.csv\", encoding='utf8')\n",
    "championid_to_name = pd.read_csv(championidtable_location)\n",
    "lookuptable = championid_to_name[\"key\"].values.tolist()"
   ]
  },
  {
   "cell_type": "code",
   "execution_count": 24,
   "id": "7b274e93-7e45-44bd-8c4c-09244ce6452a",
   "metadata": {},
   "outputs": [],
   "source": [
    "line = linecache.getline(\"league_ranked_2020_short.json\", 0 + 1).rstrip('\\n')\n",
    "json_line = simplejson.loads(line)\n",
    "\n",
    "# Get the Champion keys of every player in one match\n",
    "data = [json_line[0][\"championId\"] for i in range(10)]\n",
    "\n",
    "# convert champion keys into index notation\n",
    "data = torch.tensor([lookuptable.index(data[0]) for i in range(10)])\n",
    "\n",
    "# convert data into one hot vecot encoding\n",
    "data = torch.eye(148).index_select(dim=0, index=data)\n",
    "\n",
    "target = torch.tensor([int(json_line[1][\"stats\"][\"win\"]),\n",
    "                       int(json_line[8][\"stats\"][\"win\"])\n",
    "                       ])"
   ]
  },
  {
   "cell_type": "code",
   "execution_count": 25,
   "id": "94503ddd-90c7-4977-abf9-1c0705272d4c",
   "metadata": {},
   "outputs": [
    {
     "data": {
      "text/plain": [
       "tensor([0, 1])"
      ]
     },
     "execution_count": 25,
     "metadata": {},
     "output_type": "execute_result"
    }
   ],
   "source": [
    "target"
   ]
  },
  {
   "cell_type": "code",
   "execution_count": 26,
   "id": "3048e094-a7fc-432a-9544-14b79d9d5bb7",
   "metadata": {},
   "outputs": [
    {
     "data": {
      "text/plain": [
       "tensor([[0., 0., 0.,  ..., 1., 0., 0.],\n",
       "        [0., 0., 0.,  ..., 1., 0., 0.],\n",
       "        [0., 0., 0.,  ..., 1., 0., 0.],\n",
       "        ...,\n",
       "        [0., 0., 0.,  ..., 1., 0., 0.],\n",
       "        [0., 0., 0.,  ..., 1., 0., 0.],\n",
       "        [0., 0., 0.,  ..., 1., 0., 0.]])"
      ]
     },
     "execution_count": 26,
     "metadata": {},
     "output_type": "execute_result"
    }
   ],
   "source": [
    "data"
   ]
  },
  {
   "cell_type": "code",
   "execution_count": null,
   "id": "577e57f8-5591-4127-805a-c39b6ec7a44b",
   "metadata": {},
   "outputs": [],
   "source": []
  }
 ],
 "metadata": {
  "kernelspec": {
   "display_name": "Python 3 (ipykernel)",
   "language": "python",
   "name": "python3"
  },
  "language_info": {
   "codemirror_mode": {
    "name": "ipython",
    "version": 3
   },
   "file_extension": ".py",
   "mimetype": "text/x-python",
   "name": "python",
   "nbconvert_exporter": "python",
   "pygments_lexer": "ipython3",
   "version": "3.8.8"
  }
 },
 "nbformat": 4,
 "nbformat_minor": 5
}
