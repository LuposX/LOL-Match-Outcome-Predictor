{
 "cells": [
  {
   "cell_type": "code",
   "execution_count": 1,
   "id": "199ab140-5a18-4c56-9c93-2e078acea856",
   "metadata": {},
   "outputs": [],
   "source": [
    "import pandas as pd\n",
    "import numpy as np\n",
    "import fileinput\n",
    "import os"
   ]
  },
  {
   "cell_type": "code",
   "execution_count": null,
   "id": "bb2dc856-9843-49ee-a9d4-6080684d4236",
   "metadata": {},
   "outputs": [],
   "source": [
    "name_of_saved_file = \"league_ranked_2020_short_for_testing\""
   ]
  },
  {
   "cell_type": "code",
   "execution_count": 2,
   "id": "68e02bbf-f441-4d19-a5d3-8f536246a959",
   "metadata": {},
   "outputs": [],
   "source": [
    "# Load the LoL dataset in memory\n",
    "dataset = pd.read_csv(\"league_ranked_2020_test.csv\")"
   ]
  },
  {
   "cell_type": "code",
   "execution_count": 3,
   "id": "2aedc949-f540-4bc0-97b8-e307e726a8f5",
   "metadata": {},
   "outputs": [],
   "source": [
    "# Shorten the dataset for testing purpose so that the dataset is not too big\n",
    "df = dataset[:10]\n",
    "df = df.drop([\"0\"], axis=1)  # We drop the index"
   ]
  },
  {
   "cell_type": "code",
   "execution_count": 4,
   "id": "4ff8223e-d7d6-439c-94bc-c517aadd17ae",
   "metadata": {},
   "outputs": [],
   "source": [
    "# Save the file to disk\n",
    "df.to_csv(name_of_saved_file+\".csv\", index=False)"
   ]
  },
  {
   "cell_type": "markdown",
   "id": "9d966aad-d28b-485a-94f5-aa04ae8f909a",
   "metadata": {},
   "source": [
    "# Clean up Dataset to make it to JSON"
   ]
  },
  {
   "cell_type": "code",
   "execution_count": 5,
   "id": "5311322c-92e9-4c91-8ba0-ee6dbfce9562",
   "metadata": {},
   "outputs": [],
   "source": [
    "# Opens the file, replaces double quotation mark which where at the beginning of every line with nothing\n",
    "# Replaces \"True\" with \"true\" and \"False\" with false because of valid json\n",
    "with fileinput.FileInput(name_of_saved_file+\".csv\", inplace=True, backup='.bak') as file:\n",
    "    for line in file:\n",
    "        print(line.replace('\"', \"\"), end='')"
   ]
  },
  {
   "cell_type": "code",
   "execution_count": 6,
   "id": "df9a006d-64f8-4ac3-8cae-7588d5dbd7e9",
   "metadata": {},
   "outputs": [],
   "source": [
    "# Opens the file, replaces single quotation mark with double quotation marks\n",
    "# single quotation marks are not valid json\n",
    "with fileinput.FileInput(name_of_saved_file+\".csv\", inplace=True, backup='.bak') as file:\n",
    "    for line in file:\n",
    "        print(line.replace(\"'\", '\"'), end='')"
   ]
  },
  {
   "cell_type": "code",
   "execution_count": 7,
   "id": "667fb8bc-f3a8-4838-8eed-5913656bcee7",
   "metadata": {},
   "outputs": [],
   "source": [
    "# Replaces \"True\" with \"true\" because of valid json\n",
    "with fileinput.FileInput(name_of_saved_file+\".csv\", inplace=True, backup='.bak') as file:\n",
    "    for line in file:\n",
    "         print(line.replace('True', \"true\"), end='')"
   ]
  },
  {
   "cell_type": "code",
   "execution_count": 8,
   "id": "64911eca-39e1-4d43-a833-8746601a6ed7",
   "metadata": {},
   "outputs": [],
   "source": [
    "# Replaces \"False\" with \"false\" because of valid json\n",
    "with fileinput.FileInput(name_of_saved_file+\".csv\", inplace=True, backup='.bak') as file:\n",
    "    for line in file:\n",
    "         print(line.replace('False', \"false\"), end='')"
   ]
  },
  {
   "cell_type": "code",
   "execution_count": 9,
   "id": "77f385b0-3ed5-45b4-bfe4-4699a71b92fc",
   "metadata": {},
   "outputs": [],
   "source": [
    "# Add \",\" at the end to make it valid JSON\n",
    "file_name = name_of_saved_file+\".csv\"\n",
    "string_to_add = \",\"\n",
    "\n",
    "with open(file_name, 'r') as f:\n",
    "    file_lines = [''.join([x.strip(), string_to_add, '\\n']) for x in f.readlines()]\n",
    "\n",
    "with open(file_name, 'w') as f:\n",
    "    f.writelines(file_lines) "
   ]
  },
  {
   "cell_type": "code",
   "execution_count": 10,
   "id": "c1637f0d-b7c9-4c0c-8317-f2080d3b9006",
   "metadata": {},
   "outputs": [],
   "source": [
    "# Removes the last \",\"\n",
    "with open(file_name, 'rb+') as filehandle:\n",
    "    filehandle.seek(-3, os.SEEK_END)\n",
    "    filehandle.truncate()"
   ]
  },
  {
   "cell_type": "code",
   "execution_count": 11,
   "id": "5eb4ca8d-8300-4c20-b4b5-cf4a5d554ad9",
   "metadata": {},
   "outputs": [],
   "source": [
    "# Adds a line at the end for valid json\n",
    "f = fileinput.input(name_of_saved_file+\".csv\", inplace=1)\n",
    "line_to_prepend = \"{\\\"data\\\":[\"\n",
    "for xline in f:\n",
    "    if f.isfirstline():\n",
    "        print(line_to_prepend.rstrip('\\r\\n') + '\\n' + xline)\n",
    "    else:\n",
    "        print(xline)"
   ]
  },
  {
   "cell_type": "code",
   "execution_count": 12,
   "id": "60c5418b-a38c-4bac-98d5-c5c3cdd44b94",
   "metadata": {},
   "outputs": [],
   "source": [
    "# Adds a line at the end\n",
    "file = open(name_of_saved_file+\".csv\", \"a\")\n",
    "file.write(\"]}\")\n",
    "file.close()"
   ]
  },
  {
   "cell_type": "code",
   "execution_count": 13,
   "id": "9b855ee4-27e7-4ba4-8181-dfdb54f7bc20",
   "metadata": {},
   "outputs": [],
   "source": [
    "# rename the file\n",
    "os.rename(name_of_saved_file+\".csv\", name_of_saved_file+\".json"
   ]
  },
  {
   "cell_type": "code",
   "execution_count": null,
   "id": "f23f21d6-08f8-46c4-9bd9-aa28b3c7a90b",
   "metadata": {},
   "outputs": [],
   "source": []
  }
 ],
 "metadata": {
  "kernelspec": {
   "display_name": "Python 3",
   "language": "python",
   "name": "python3"
  },
  "language_info": {
   "codemirror_mode": {
    "name": "ipython",
    "version": 3
   },
   "file_extension": ".py",
   "mimetype": "text/x-python",
   "name": "python",
   "nbconvert_exporter": "python",
   "pygments_lexer": "ipython3",
   "version": "3.8.8"
  }
 },
 "nbformat": 4,
 "nbformat_minor": 5
}
