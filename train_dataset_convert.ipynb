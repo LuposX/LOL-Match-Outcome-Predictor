{
 "cells": [
  {
   "cell_type": "code",
   "execution_count": 15,
   "id": "375dbad6-adb5-418b-b545-48945fe6f0d3",
   "metadata": {},
   "outputs": [],
   "source": [
    "import pandas as pd\n",
    "import numpy as np\n",
    "import fileinput\n",
    "import os\n",
    "import re"
   ]
  },
  {
   "cell_type": "code",
   "execution_count": 24,
   "id": "215acf97-c7be-481e-a350-02ff3c7215b8",
   "metadata": {},
   "outputs": [],
   "source": [
    "# removes index in front of the json\n",
    "with fileinput.FileInput(\"league_ranked_2020_train.json\", inplace=True, backup='.bak') as file:\n",
    "    for line in file:\n",
    "        number = re.search(r',', line).span(0)[0]\n",
    "        print(line[number+1:])"
   ]
  },
  {
   "cell_type": "code",
   "execution_count": 27,
   "id": "065fe771-d15c-45f3-85e8-f1d8d4c46a81",
   "metadata": {},
   "outputs": [],
   "source": [
    "# removes empty lines\n",
    "for line in fileinput.FileInput(\"league_ranked_2020_train.json\",inplace=1):\n",
    "    if line.rstrip():\n",
    "        print(line)"
   ]
  },
  {
   "cell_type": "code",
   "execution_count": 30,
   "id": "4f76a9ec-16bf-4f77-9cc5-2a206a4bcc2f",
   "metadata": {},
   "outputs": [
    {
     "name": "stderr",
     "output_type": "stream",
     "text": [
      "IOPub data rate exceeded.\n",
      "The Jupyter server will temporarily stop sending output\n",
      "to the client in order to avoid crashing it.\n",
      "To change this limit, set the config variable\n",
      "`--ServerApp.iopub_data_rate_limit`.\n",
      "\n",
      "Current values:\n",
      "ServerApp.iopub_data_rate_limit=1000000.0 (bytes/sec)\n",
      "ServerApp.rate_limit_window=3.0 (secs)\n",
      "\n"
     ]
    }
   ],
   "source": [
    "# removes empty lines\n",
    "with open(\"league_ranked_2020_train.json\") as f:\n",
    "    print(\"\".join(line for line in f if not line.isspace()))"
   ]
  },
  {
   "cell_type": "code",
   "execution_count": null,
   "id": "f37df3e0-8583-4fe8-b24e-ad31346f3f55",
   "metadata": {},
   "outputs": [],
   "source": []
  }
 ],
 "metadata": {
  "kernelspec": {
   "display_name": "Python 3 (ipykernel)",
   "language": "python",
   "name": "python3"
  },
  "language_info": {
   "codemirror_mode": {
    "name": "ipython",
    "version": 3
   },
   "file_extension": ".py",
   "mimetype": "text/x-python",
   "name": "python",
   "nbconvert_exporter": "python",
   "pygments_lexer": "ipython3",
   "version": "3.8.8"
  }
 },
 "nbformat": 4,
 "nbformat_minor": 5
}
