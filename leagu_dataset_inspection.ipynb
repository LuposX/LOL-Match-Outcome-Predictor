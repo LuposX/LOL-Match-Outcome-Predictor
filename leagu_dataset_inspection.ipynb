{
 "cells": [
  {
   "cell_type": "code",
   "execution_count": 1,
   "id": "dfe1e8c3-e758-4060-9f5e-ca92b1edc1f5",
   "metadata": {},
   "outputs": [],
   "source": [
    "import json"
   ]
  },
  {
   "cell_type": "code",
   "execution_count": 2,
   "id": "202bb77b-0459-401a-9cd5-9cfd4f759277",
   "metadata": {},
   "outputs": [],
   "source": [
    "with open(\"league_ranked_2020_short_for_testing.json\", \"r\") as json_file:\n",
    "    data = json.load(json_file)"
   ]
  },
  {
   "cell_type": "markdown",
   "id": "ac95499a-6692-4821-a932-001ceaa9550f",
   "metadata": {},
   "source": [
    "# Examples\n",
    "Shows examples on how to get the needed data"
   ]
  },
  {
   "cell_type": "code",
   "execution_count": 8,
   "id": "85dcb6c3-8b6d-44de-8fc8-5c807e9930a2",
   "metadata": {},
   "outputs": [
    {
     "name": "stdout",
     "output_type": "stream",
     "text": [
      "7\n",
      "100\n",
      "False\n"
     ]
    }
   ],
   "source": [
    "x_match = 0  # Index of a single League of Legends match\n",
    "x_player = 0 # Index of the players in the match\n",
    "print(data[\"data\"][x_match][x_player][\"championId\"])\n",
    "print(data[\"data\"][x_match][x_player][\"teamId\"])\n",
    "print(data[\"data\"][x_match][x_player][\"stats\"][\"win\"])"
   ]
  },
  {
   "cell_type": "code",
   "execution_count": 13,
   "id": "87b296b1-cfc3-476e-b255-536b5fadd773",
   "metadata": {},
   "outputs": [
    {
     "name": "stdout",
     "output_type": "stream",
     "text": [
      "235\n",
      "200\n",
      "True\n"
     ]
    }
   ],
   "source": [
    "x_match = 0\n",
    "x_player = 5\n",
    "print(data[\"data\"][x_match][x_player][\"championId\"])\n",
    "print(data[\"data\"][x_match][x_player][\"teamId\"])\n",
    "print(data[\"data\"][x_match][x_player][\"stats\"][\"win\"])"
   ]
  },
  {
   "cell_type": "code",
   "execution_count": 14,
   "id": "c7728d04-bec6-4012-b3d9-a9d4927a083d",
   "metadata": {},
   "outputs": [
    {
     "name": "stdout",
     "output_type": "stream",
     "text": [
      "12\n",
      "200\n",
      "True\n"
     ]
    }
   ],
   "source": [
    "x_match = 2\n",
    "x_player = 5\n",
    "print(data[\"data\"][x_match][x_player][\"championId\"])\n",
    "print(data[\"data\"][x_match][x_player][\"teamId\"])\n",
    "print(data[\"data\"][x_match][x_player][\"stats\"][\"win\"])"
   ]
  },
  {
   "cell_type": "code",
   "execution_count": 10,
   "id": "5ded65b6-933a-40a1-8552-78b7825ce228",
   "metadata": {},
   "outputs": [
    {
     "data": {
      "text/plain": [
       "[7, 350, 266, 517, 110, 235, 81, 127, 84, 421]"
      ]
     },
     "execution_count": 10,
     "metadata": {},
     "output_type": "execute_result"
    }
   ],
   "source": [
    "[data[\"data\"][0][i][\"championId\"] for i in range(10)]"
   ]
  },
  {
   "cell_type": "code",
   "execution_count": 15,
   "id": "a6afae6c-e0b7-4155-bcc9-311694c70dfd",
   "metadata": {},
   "outputs": [
    {
     "data": {
      "text/plain": [
       "1"
      ]
     },
     "execution_count": 15,
     "metadata": {},
     "output_type": "execute_result"
    }
   ],
   "source": [
    "int(data[\"data\"][0][8][\"stats\"][\"win\"])"
   ]
  },
  {
   "cell_type": "code",
   "execution_count": 6,
   "id": "7a361c8d-2e1b-4a3a-bafc-220d9492ef6d",
   "metadata": {},
   "outputs": [
    {
     "data": {
      "text/plain": [
       "11"
      ]
     },
     "execution_count": 6,
     "metadata": {},
     "output_type": "execute_result"
    }
   ],
   "source": [
    "len(data[\"data\"])"
   ]
  },
  {
   "cell_type": "code",
   "execution_count": null,
   "id": "75357e20-1b58-4bf7-8ec5-0a0f8b3b76da",
   "metadata": {},
   "outputs": [],
   "source": []
  }
 ],
 "metadata": {
  "kernelspec": {
   "display_name": "Python 3 (ipykernel)",
   "language": "python",
   "name": "python3"
  },
  "language_info": {
   "codemirror_mode": {
    "name": "ipython",
    "version": 3
   },
   "file_extension": ".py",
   "mimetype": "text/x-python",
   "name": "python",
   "nbconvert_exporter": "python",
   "pygments_lexer": "ipython3",
   "version": "3.8.8"
  }
 },
 "nbformat": 4,
 "nbformat_minor": 5
}
