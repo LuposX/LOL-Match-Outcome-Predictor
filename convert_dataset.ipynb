{
 "cells": [
  {
   "cell_type": "code",
   "execution_count": 1,
   "id": "91500414-8dbe-4a50-ac8c-14a635a048cd",
   "metadata": {},
   "outputs": [],
   "source": [
    "import json\n",
    "import pandas as pd\n",
    "import torch\n",
    "from torch.utils.data import DataLoader, Dataset"
   ]
  },
  {
   "cell_type": "code",
   "execution_count": 2,
   "id": "bb36037b-2969-4708-afe7-9c52e17bd690",
   "metadata": {},
   "outputs": [],
   "source": [
    "# Open the dataset\n",
    "dataset_train = json.load(open(\"league_ranked_2020_short_for_testing.json\"))"
   ]
  },
  {
   "cell_type": "code",
   "execution_count": 3,
   "id": "b910a74d-8ace-465a-8026-613840eb947b",
   "metadata": {},
   "outputs": [
    {
     "data": {
      "text/html": [
       "<div>\n",
       "<style scoped>\n",
       "    .dataframe tbody tr th:only-of-type {\n",
       "        vertical-align: middle;\n",
       "    }\n",
       "\n",
       "    .dataframe tbody tr th {\n",
       "        vertical-align: top;\n",
       "    }\n",
       "\n",
       "    .dataframe thead th {\n",
       "        text-align: right;\n",
       "    }\n",
       "</style>\n",
       "<table border=\"1\" class=\"dataframe\">\n",
       "  <thead>\n",
       "    <tr style=\"text-align: right;\">\n",
       "      <th></th>\n",
       "      <th>Unnamed: 0</th>\n",
       "      <th>version</th>\n",
       "      <th>id</th>\n",
       "      <th>key</th>\n",
       "      <th>name</th>\n",
       "      <th>title</th>\n",
       "      <th>blurb</th>\n",
       "      <th>tags</th>\n",
       "      <th>partype</th>\n",
       "      <th>info.attack</th>\n",
       "      <th>...</th>\n",
       "      <th>stats.hpregen</th>\n",
       "      <th>stats.hpregenperlevel</th>\n",
       "      <th>stats.mpregen</th>\n",
       "      <th>stats.mpregenperlevel</th>\n",
       "      <th>stats.crit</th>\n",
       "      <th>stats.critperlevel</th>\n",
       "      <th>stats.attackdamage</th>\n",
       "      <th>stats.attackdamageperlevel</th>\n",
       "      <th>stats.attackspeedperlevel</th>\n",
       "      <th>stats.attackspeed</th>\n",
       "    </tr>\n",
       "  </thead>\n",
       "  <tbody>\n",
       "    <tr>\n",
       "      <th>145</th>\n",
       "      <td>0</td>\n",
       "      <td>10.6.1</td>\n",
       "      <td>Zilean</td>\n",
       "      <td>26</td>\n",
       "      <td>Zilean</td>\n",
       "      <td>the Chronokeeper</td>\n",
       "      <td>Once a powerful Icathian mage, Zilean became o...</td>\n",
       "      <td>['Support', 'Mage']</td>\n",
       "      <td>Mana</td>\n",
       "      <td>2</td>\n",
       "      <td>...</td>\n",
       "      <td>5.5</td>\n",
       "      <td>0.5</td>\n",
       "      <td>11.335</td>\n",
       "      <td>0.80</td>\n",
       "      <td>0</td>\n",
       "      <td>0</td>\n",
       "      <td>51.640</td>\n",
       "      <td>3.0</td>\n",
       "      <td>2.13</td>\n",
       "      <td>0.625</td>\n",
       "    </tr>\n",
       "    <tr>\n",
       "      <th>146</th>\n",
       "      <td>0</td>\n",
       "      <td>10.6.1</td>\n",
       "      <td>Zoe</td>\n",
       "      <td>142</td>\n",
       "      <td>Zoe</td>\n",
       "      <td>the Aspect of Twilight</td>\n",
       "      <td>As the embodiment of mischief, imagination, an...</td>\n",
       "      <td>['Mage', 'Support']</td>\n",
       "      <td>Mana</td>\n",
       "      <td>1</td>\n",
       "      <td>...</td>\n",
       "      <td>6.5</td>\n",
       "      <td>0.6</td>\n",
       "      <td>8.000</td>\n",
       "      <td>0.65</td>\n",
       "      <td>0</td>\n",
       "      <td>0</td>\n",
       "      <td>58.000</td>\n",
       "      <td>3.3</td>\n",
       "      <td>2.50</td>\n",
       "      <td>0.625</td>\n",
       "    </tr>\n",
       "    <tr>\n",
       "      <th>147</th>\n",
       "      <td>0</td>\n",
       "      <td>10.6.1</td>\n",
       "      <td>Zyra</td>\n",
       "      <td>143</td>\n",
       "      <td>Zyra</td>\n",
       "      <td>Rise of the Thorns</td>\n",
       "      <td>Born in an ancient, sorcerous catastrophe, Zyr...</td>\n",
       "      <td>['Mage', 'Support']</td>\n",
       "      <td>Mana</td>\n",
       "      <td>4</td>\n",
       "      <td>...</td>\n",
       "      <td>5.5</td>\n",
       "      <td>0.5</td>\n",
       "      <td>13.000</td>\n",
       "      <td>0.40</td>\n",
       "      <td>0</td>\n",
       "      <td>0</td>\n",
       "      <td>53.376</td>\n",
       "      <td>3.2</td>\n",
       "      <td>2.11</td>\n",
       "      <td>0.625</td>\n",
       "    </tr>\n",
       "  </tbody>\n",
       "</table>\n",
       "<p>3 rows × 40 columns</p>\n",
       "</div>"
      ],
      "text/plain": [
       "     Unnamed: 0 version      id  key    name                   title  \\\n",
       "145           0  10.6.1  Zilean   26  Zilean        the Chronokeeper   \n",
       "146           0  10.6.1     Zoe  142     Zoe  the Aspect of Twilight   \n",
       "147           0  10.6.1    Zyra  143    Zyra      Rise of the Thorns   \n",
       "\n",
       "                                                 blurb                 tags  \\\n",
       "145  Once a powerful Icathian mage, Zilean became o...  ['Support', 'Mage']   \n",
       "146  As the embodiment of mischief, imagination, an...  ['Mage', 'Support']   \n",
       "147  Born in an ancient, sorcerous catastrophe, Zyr...  ['Mage', 'Support']   \n",
       "\n",
       "    partype  info.attack  ...  stats.hpregen  stats.hpregenperlevel  \\\n",
       "145    Mana            2  ...            5.5                    0.5   \n",
       "146    Mana            1  ...            6.5                    0.6   \n",
       "147    Mana            4  ...            5.5                    0.5   \n",
       "\n",
       "     stats.mpregen stats.mpregenperlevel stats.crit stats.critperlevel  \\\n",
       "145         11.335                  0.80          0                  0   \n",
       "146          8.000                  0.65          0                  0   \n",
       "147         13.000                  0.40          0                  0   \n",
       "\n",
       "     stats.attackdamage  stats.attackdamageperlevel  \\\n",
       "145              51.640                         3.0   \n",
       "146              58.000                         3.3   \n",
       "147              53.376                         3.2   \n",
       "\n",
       "     stats.attackspeedperlevel  stats.attackspeed  \n",
       "145                       2.13              0.625  \n",
       "146                       2.50              0.625  \n",
       "147                       2.11              0.625  \n",
       "\n",
       "[3 rows x 40 columns]"
      ]
     },
     "execution_count": 3,
     "metadata": {},
     "output_type": "execute_result"
    }
   ],
   "source": [
    "# Open the table with which one can convert champion id to champion name\n",
    "championid_to_name = pd.read_csv(\"riot_champion.csv\")\n",
    "championid_to_name.tail(3)"
   ]
  },
  {
   "cell_type": "markdown",
   "id": "d37b0bac-e204-4ad3-9c09-630eb87670b7",
   "metadata": {},
   "source": [
    "# Convert Champion Key into Index Notatation\n",
    "The Champion key which you can get by `championid_to_name[\"keys\"]` is weird, the Keys are not ascending/descending in regular intervalls.\n",
    "So instead we convert the Champion key to the index with that The Champion is between 0 and 147."
   ]
  },
  {
   "cell_type": "code",
   "execution_count": 4,
   "id": "7556d7bb-4ff4-483f-9336-88c2b5e6b924",
   "metadata": {},
   "outputs": [],
   "source": [
    "# Make championid_to_name[\"key\"] into a list\n",
    "lookuptable = championid_to_name[\"key\"].values.tolist()"
   ]
  },
  {
   "cell_type": "code",
   "execution_count": 5,
   "id": "64de24da-8e0c-4537-a479-4858939140ea",
   "metadata": {},
   "outputs": [
    {
     "data": {
      "text/plain": [
       "[7, 350, 266, 517, 110, 235, 81, 127, 84, 421]"
      ]
     },
     "execution_count": 5,
     "metadata": {},
     "output_type": "execute_result"
    }
   ],
   "source": [
    "# Get example data\n",
    "data1 = [dataset_train[\"data\"][0][i][\"championId\"] for i in range(10)]\n",
    "data1"
   ]
  },
  {
   "cell_type": "code",
   "execution_count": 6,
   "id": "aee4ddc8-c792-4169-b98b-1295125c0722",
   "metadata": {},
   "outputs": [
    {
     "data": {
      "text/plain": [
       "tensor([ 61, 141,   0, 112, 127, 100,  27,  64,   2,  93])"
      ]
     },
     "execution_count": 6,
     "metadata": {},
     "output_type": "execute_result"
    }
   ],
   "source": [
    "# Convert the example data into index notation\n",
    "data2 = torch.tensor([lookuptable.index(data1[i]) for i in range(10)])\n",
    "data2"
   ]
  },
  {
   "cell_type": "markdown",
   "id": "ea18fd3d-2201-4d18-a5ed-b76472c40841",
   "metadata": {},
   "source": [
    "# Convert Champion key into Champion name"
   ]
  },
  {
   "cell_type": "code",
   "execution_count": 14,
   "id": "03b09f23-d3c5-4876-a649-af3b3ff6495e",
   "metadata": {},
   "outputs": [
    {
     "data": {
      "text/html": [
       "<div>\n",
       "<style scoped>\n",
       "    .dataframe tbody tr th:only-of-type {\n",
       "        vertical-align: middle;\n",
       "    }\n",
       "\n",
       "    .dataframe tbody tr th {\n",
       "        vertical-align: top;\n",
       "    }\n",
       "\n",
       "    .dataframe thead th {\n",
       "        text-align: right;\n",
       "    }\n",
       "</style>\n",
       "<table border=\"1\" class=\"dataframe\">\n",
       "  <thead>\n",
       "    <tr style=\"text-align: right;\">\n",
       "      <th></th>\n",
       "      <th>Unnamed: 0</th>\n",
       "      <th>version</th>\n",
       "      <th>id</th>\n",
       "      <th>key</th>\n",
       "      <th>name</th>\n",
       "      <th>title</th>\n",
       "      <th>blurb</th>\n",
       "      <th>tags</th>\n",
       "      <th>partype</th>\n",
       "      <th>info.attack</th>\n",
       "      <th>...</th>\n",
       "      <th>stats.hpregen</th>\n",
       "      <th>stats.hpregenperlevel</th>\n",
       "      <th>stats.mpregen</th>\n",
       "      <th>stats.mpregenperlevel</th>\n",
       "      <th>stats.crit</th>\n",
       "      <th>stats.critperlevel</th>\n",
       "      <th>stats.attackdamage</th>\n",
       "      <th>stats.attackdamageperlevel</th>\n",
       "      <th>stats.attackspeedperlevel</th>\n",
       "      <th>stats.attackspeed</th>\n",
       "    </tr>\n",
       "  </thead>\n",
       "  <tbody>\n",
       "    <tr>\n",
       "      <th>0</th>\n",
       "      <td>0</td>\n",
       "      <td>10.6.1</td>\n",
       "      <td>Aatrox</td>\n",
       "      <td>266</td>\n",
       "      <td>Aatrox</td>\n",
       "      <td>the Darkin Blade</td>\n",
       "      <td>Once honored defenders of Shurima against the ...</td>\n",
       "      <td>['Fighter', 'Tank']</td>\n",
       "      <td>Blood Well</td>\n",
       "      <td>8</td>\n",
       "      <td>...</td>\n",
       "      <td>3.0</td>\n",
       "      <td>1.0</td>\n",
       "      <td>0.0</td>\n",
       "      <td>0.0</td>\n",
       "      <td>0</td>\n",
       "      <td>0</td>\n",
       "      <td>60.00</td>\n",
       "      <td>5.0</td>\n",
       "      <td>2.5</td>\n",
       "      <td>0.651</td>\n",
       "    </tr>\n",
       "    <tr>\n",
       "      <th>1</th>\n",
       "      <td>0</td>\n",
       "      <td>10.6.1</td>\n",
       "      <td>Ahri</td>\n",
       "      <td>103</td>\n",
       "      <td>Ahri</td>\n",
       "      <td>the Nine-Tailed Fox</td>\n",
       "      <td>Innately connected to the latent power of Rune...</td>\n",
       "      <td>['Mage', 'Assassin']</td>\n",
       "      <td>Mana</td>\n",
       "      <td>3</td>\n",
       "      <td>...</td>\n",
       "      <td>6.5</td>\n",
       "      <td>0.6</td>\n",
       "      <td>8.0</td>\n",
       "      <td>0.8</td>\n",
       "      <td>0</td>\n",
       "      <td>0</td>\n",
       "      <td>53.04</td>\n",
       "      <td>3.0</td>\n",
       "      <td>2.0</td>\n",
       "      <td>0.668</td>\n",
       "    </tr>\n",
       "    <tr>\n",
       "      <th>2</th>\n",
       "      <td>0</td>\n",
       "      <td>10.6.1</td>\n",
       "      <td>Akali</td>\n",
       "      <td>84</td>\n",
       "      <td>Akali</td>\n",
       "      <td>the Rogue Assassin</td>\n",
       "      <td>Abandoning the Kinkou Order and her title of t...</td>\n",
       "      <td>['Assassin']</td>\n",
       "      <td>Energy</td>\n",
       "      <td>5</td>\n",
       "      <td>...</td>\n",
       "      <td>8.0</td>\n",
       "      <td>0.5</td>\n",
       "      <td>50.0</td>\n",
       "      <td>0.0</td>\n",
       "      <td>0</td>\n",
       "      <td>0</td>\n",
       "      <td>62.40</td>\n",
       "      <td>3.3</td>\n",
       "      <td>3.2</td>\n",
       "      <td>0.625</td>\n",
       "    </tr>\n",
       "  </tbody>\n",
       "</table>\n",
       "<p>3 rows × 40 columns</p>\n",
       "</div>"
      ],
      "text/plain": [
       "   Unnamed: 0 version      id  key    name                title  \\\n",
       "0           0  10.6.1  Aatrox  266  Aatrox     the Darkin Blade   \n",
       "1           0  10.6.1    Ahri  103    Ahri  the Nine-Tailed Fox   \n",
       "2           0  10.6.1   Akali   84   Akali   the Rogue Assassin   \n",
       "\n",
       "                                               blurb                  tags  \\\n",
       "0  Once honored defenders of Shurima against the ...   ['Fighter', 'Tank']   \n",
       "1  Innately connected to the latent power of Rune...  ['Mage', 'Assassin']   \n",
       "2  Abandoning the Kinkou Order and her title of t...          ['Assassin']   \n",
       "\n",
       "      partype  info.attack  ...  stats.hpregen  stats.hpregenperlevel  \\\n",
       "0  Blood Well            8  ...            3.0                    1.0   \n",
       "1        Mana            3  ...            6.5                    0.6   \n",
       "2      Energy            5  ...            8.0                    0.5   \n",
       "\n",
       "   stats.mpregen stats.mpregenperlevel stats.crit stats.critperlevel  \\\n",
       "0            0.0                   0.0          0                  0   \n",
       "1            8.0                   0.8          0                  0   \n",
       "2           50.0                   0.0          0                  0   \n",
       "\n",
       "   stats.attackdamage  stats.attackdamageperlevel  stats.attackspeedperlevel  \\\n",
       "0               60.00                         5.0                        2.5   \n",
       "1               53.04                         3.0                        2.0   \n",
       "2               62.40                         3.3                        3.2   \n",
       "\n",
       "   stats.attackspeed  \n",
       "0              0.651  \n",
       "1              0.668  \n",
       "2              0.625  \n",
       "\n",
       "[3 rows x 40 columns]"
      ]
     },
     "execution_count": 14,
     "metadata": {},
     "output_type": "execute_result"
    }
   ],
   "source": [
    "championid_to_name.head(3)"
   ]
  },
  {
   "cell_type": "code",
   "execution_count": 15,
   "id": "a6bb8d96-df5f-4177-80b9-6e95ea252b75",
   "metadata": {},
   "outputs": [
    {
     "data": {
      "text/plain": [
       "2    Akali\n",
       "Name: name, dtype: object"
      ]
     },
     "execution_count": 15,
     "metadata": {},
     "output_type": "execute_result"
    }
   ],
   "source": [
    "championid_to_name.loc[championid_to_name[\"key\"] == data1[8]][\"name\"]"
   ]
  },
  {
   "cell_type": "markdown",
   "id": "2d13470e-16fe-40a6-ba2c-f42753481803",
   "metadata": {
    "tags": []
   },
   "source": [
    "# Convert Data into one hot vector encoding"
   ]
  },
  {
   "cell_type": "code",
   "execution_count": 16,
   "id": "03252c29-2844-45f3-8633-4abddcdbee6f",
   "metadata": {},
   "outputs": [
    {
     "data": {
      "text/plain": [
       "tensor([0., 0., 1., 0., 0., 0., 0., 0., 0., 0., 0., 0., 0., 0., 0., 0., 0., 0.,\n",
       "        0., 0., 0., 0., 0., 0., 0., 0., 0., 0., 0., 0., 0., 0., 0., 0., 0., 0.,\n",
       "        0., 0., 0., 0., 0., 0., 0., 0., 0., 0., 0., 0., 0., 0., 0., 0., 0., 0.,\n",
       "        0., 0., 0., 0., 0., 0., 0., 0., 0., 0., 0., 0., 0., 0., 0., 0., 0., 0.,\n",
       "        0., 0., 0., 0., 0., 0., 0., 0., 0., 0., 0., 0., 0., 0., 0., 0., 0., 0.,\n",
       "        0., 0., 0., 0., 0., 0., 0., 0., 0., 0., 0., 0., 0., 0., 0., 0., 0., 0.,\n",
       "        0., 0., 0., 0., 0., 0., 0., 0., 0., 0., 0., 0., 0., 0., 0., 0., 0., 0.,\n",
       "        0., 0., 0., 0., 0., 0., 0., 0., 0., 0., 0., 0., 0., 0., 0., 0., 0., 0.,\n",
       "        0., 0., 0., 0., 0., 0.])"
      ]
     },
     "execution_count": 16,
     "metadata": {},
     "output_type": "execute_result"
    }
   ],
   "source": [
    "# Example\n",
    "torch.eye(150)[data2[8]]"
   ]
  },
  {
   "cell_type": "code",
   "execution_count": 17,
   "id": "8aff0678-8c63-44c3-83f2-324043d6df9f",
   "metadata": {},
   "outputs": [
    {
     "name": "stdout",
     "output_type": "stream",
     "text": [
      "tensor([[0., 0., 0.,  ..., 0., 0., 0.],\n",
      "        [0., 0., 0.,  ..., 0., 0., 0.],\n",
      "        [1., 0., 0.,  ..., 0., 0., 0.],\n",
      "        ...,\n",
      "        [0., 0., 0.,  ..., 0., 0., 0.],\n",
      "        [0., 0., 1.,  ..., 0., 0., 0.],\n",
      "        [0., 0., 0.,  ..., 0., 0., 0.]])\n",
      "torch.Size([10, 148])\n"
     ]
    }
   ],
   "source": [
    "# convert data\n",
    "test = torch.eye(148).index_select(dim=0, index=data2)\n",
    "print(test)\n",
    "print(test.shape)"
   ]
  },
  {
   "cell_type": "code",
   "execution_count": null,
   "id": "5d5147e7-0948-4b3c-b47e-0f6dc126c027",
   "metadata": {},
   "outputs": [],
   "source": []
  }
 ],
 "metadata": {
  "kernelspec": {
   "display_name": "Python 3 (ipykernel)",
   "language": "python",
   "name": "python3"
  },
  "language_info": {
   "codemirror_mode": {
    "name": "ipython",
    "version": 3
   },
   "file_extension": ".py",
   "mimetype": "text/x-python",
   "name": "python",
   "nbconvert_exporter": "python",
   "pygments_lexer": "ipython3",
   "version": "3.8.8"
  }
 },
 "nbformat": 4,
 "nbformat_minor": 5
}
